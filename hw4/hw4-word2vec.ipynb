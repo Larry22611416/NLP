{
 "cells": [
  {
   "cell_type": "code",
   "execution_count": 7,
   "id": "43a5344c",
   "metadata": {
    "colab": {
     "base_uri": "https://localhost:8080/"
    },
    "executionInfo": {
     "elapsed": 7985,
     "status": "ok",
     "timestamp": 1683942553812,
     "user": {
      "displayName": "湯嘉為",
      "userId": "11718294289425929077"
     },
     "user_tz": -480
    },
    "id": "43a5344c",
    "outputId": "91237988-d6e2-4ac7-daa7-3e6960c9e52c"
   },
   "outputs": [],
   "source": [
    "# %load_ext memory_profiler\n",
    "!pip install -q zhconv"
   ]
  },
  {
   "cell_type": "code",
   "execution_count": 10,
   "id": "4bf25ec5",
   "metadata": {},
   "outputs": [
    {
     "name": "stdout",
     "output_type": "stream",
     "text": [
      "Collecting gensim\n",
      "  Downloading gensim-4.3.1-cp38-cp38-win_amd64.whl (24.0 MB)\n",
      "     --------------------------------------- 24.0/24.0 MB 20.5 MB/s eta 0:00:00\n",
      "Requirement already satisfied: numpy>=1.18.5 in c:\\users\\larry\\appdata\\local\\programs\\python\\python38\\lib\\site-packages (from gensim) (1.23.4)\n",
      "Requirement already satisfied: scipy>=1.7.0 in c:\\users\\larry\\appdata\\local\\programs\\python\\python38\\lib\\site-packages (from gensim) (1.9.1)\n",
      "Collecting smart-open>=1.8.1 (from gensim)\n",
      "  Downloading smart_open-6.3.0-py3-none-any.whl (56 kB)\n",
      "     ---------------------------------------- 56.8/56.8 kB ? eta 0:00:00\n",
      "Installing collected packages: smart-open, gensim\n",
      "Successfully installed gensim-4.3.1 smart-open-6.3.0\n"
     ]
    }
   ],
   "source": [
    "!pip install gensim"
   ]
  },
  {
   "cell_type": "code",
   "execution_count": 15,
   "id": "3187ae25",
   "metadata": {},
   "outputs": [
    {
     "name": "stdout",
     "output_type": "stream",
     "text": [
      "Collecting wget\n",
      "  Downloading wget-3.2.zip (10 kB)\n",
      "  Preparing metadata (setup.py): started\n",
      "  Preparing metadata (setup.py): finished with status 'done'\n",
      "Building wheels for collected packages: wget\n",
      "  Building wheel for wget (setup.py): started\n",
      "  Building wheel for wget (setup.py): finished with status 'done'\n",
      "  Created wheel for wget: filename=wget-3.2-py3-none-any.whl size=9682 sha256=482b6c754c5ad0eb525f928fbe4f2841856a2d8e13537464857ee3e0ff852a68\n",
      "  Stored in directory: c:\\users\\larry\\appdata\\local\\pip\\cache\\wheels\\bd\\a8\\c3\\3cf2c14a1837a4e04bd98631724e81f33f462d86a1d895fae0\n",
      "Successfully built wget\n",
      "Installing collected packages: wget\n",
      "Successfully installed wget-3.2\n"
     ]
    }
   ],
   "source": [
    "!pip install wget"
   ]
  },
  {
   "cell_type": "code",
   "execution_count": 2,
   "id": "e36bcf31",
   "metadata": {
    "executionInfo": {
     "elapsed": 347,
     "status": "ok",
     "timestamp": 1683942558357,
     "user": {
      "displayName": "湯嘉為",
      "userId": "11718294289425929077"
     },
     "user_tz": -480
    },
    "id": "e36bcf31"
   },
   "outputs": [
    {
     "data": {
      "text/plain": [
       "('dict.txt.big', <http.client.HTTPMessage at 0x2233b3aab50>)"
      ]
     },
     "execution_count": 2,
     "metadata": {},
     "output_type": "execute_result"
    }
   ],
   "source": [
    "import urllib.request\n",
    "url = \"https://github.com/fxsjy/jieba/raw/master/extra_dict/dict.txt.big\"\n",
    "filename = \"dict.txt.big\"\n",
    "urllib.request.urlretrieve(url, filename)"
   ]
  },
  {
   "cell_type": "code",
   "execution_count": 3,
   "id": "5380f003",
   "metadata": {
    "colab": {
     "base_uri": "https://localhost:8080/"
    },
    "executionInfo": {
     "elapsed": 4516,
     "status": "ok",
     "timestamp": 1683942566066,
     "user": {
      "displayName": "湯嘉為",
      "userId": "11718294289425929077"
     },
     "user_tz": -480
    },
    "id": "5380f003",
    "outputId": "6bf07439-c390-4d95-b65b-4b96d00baf38"
   },
   "outputs": [
    {
     "name": "stdout",
     "output_type": "stream",
     "text": [
      "gensim 4.3.1\n",
      "jieba 0.42.1\n"
     ]
    }
   ],
   "source": [
    "import os \n",
    "\n",
    "# Packages\n",
    "import gensim\n",
    "import jieba\n",
    "import zhconv\n",
    "from gensim.corpora import WikiCorpus\n",
    "from datetime import datetime as dt\n",
    "from typing import List\n",
    "\n",
    "\n",
    "if not os.path.isfile('dict.txt.big'):\n",
    "    !wget https://github.com/fxsjy/jieba/raw/master/extra_dict/dict.txt.big\n",
    "jieba.set_dictionary('dict.txt.big')\n",
    "\n",
    "print(\"gensim\", gensim.__version__)\n",
    "print(\"jieba\", jieba.__version__)"
   ]
  },
  {
   "cell_type": "code",
   "execution_count": 6,
   "id": "60836bcd",
   "metadata": {
    "colab": {
     "base_uri": "https://localhost:8080/"
    },
    "executionInfo": {
     "elapsed": 12485,
     "status": "ok",
     "timestamp": 1683899705501,
     "user": {
      "displayName": "湯嘉為",
      "userId": "11718294289425929077"
     },
     "user_tz": -480
    },
    "id": "60836bcd",
    "outputId": "5dee90d9-c512-4462-dcb7-37e4206cec21"
   },
   "outputs": [],
   "source": [
    "ZhWiki = r\"C:\\Users\\Larry\\Downloads\\zhwiki-20230501-pages-articles-multistream.xml.bz2\""
   ]
  },
  {
   "cell_type": "code",
   "execution_count": 7,
   "id": "0c56b2a4",
   "metadata": {
    "colab": {
     "base_uri": "https://localhost:8080/",
     "height": 36
    },
    "executionInfo": {
     "elapsed": 57,
     "status": "ok",
     "timestamp": 1683899705504,
     "user": {
      "displayName": "湯嘉為",
      "userId": "11718294289425929077"
     },
     "user_tz": -480
    },
    "id": "0c56b2a4",
    "outputId": "e5973974-97a2-4277-e2ce-625d345b98db"
   },
   "outputs": [
    {
     "data": {
      "text/plain": [
       "'這原本是一段簡體中文'"
      ]
     },
     "execution_count": 7,
     "metadata": {},
     "output_type": "execute_result"
    }
   ],
   "source": [
    "zhconv.convert(\"这原本是一段简体中文\", \"zh-tw\")"
   ]
  },
  {
   "cell_type": "code",
   "execution_count": 9,
   "id": "04d6a503",
   "metadata": {
    "colab": {
     "base_uri": "https://localhost:8080/"
    },
    "executionInfo": {
     "elapsed": 24,
     "status": "ok",
     "timestamp": 1683899707144,
     "user": {
      "displayName": "湯嘉為",
      "userId": "11718294289425929077"
     },
     "user_tz": -480
    },
    "id": "04d6a503",
    "outputId": "df0b8dec-825c-496d-8742-54bbdae3e8a2"
   },
   "outputs": [
    {
     "name": "stdout",
     "output_type": "stream",
     "text": [
      "['中', '英', '夾雜', '的', 'example', '，', 'Word2Vec', '應該', '很', 'interesting', '吧', '?']\n"
     ]
    }
   ],
   "source": [
    "print(list(jieba.cut(\"中英夾雜的example，Word2Vec應該很interesting吧?\")))"
   ]
  },
  {
   "cell_type": "code",
   "execution_count": 1,
   "id": "96bfa57e",
   "metadata": {},
   "outputs": [],
   "source": [
    "# !pip install spacy"
   ]
  },
  {
   "cell_type": "code",
   "execution_count": 4,
   "id": "a811a625",
   "metadata": {
    "colab": {
     "base_uri": "https://localhost:8080/"
    },
    "executionInfo": {
     "elapsed": 28575,
     "status": "ok",
     "timestamp": 1683899735706,
     "user": {
      "displayName": "湯嘉為",
      "userId": "11718294289425929077"
     },
     "user_tz": -480
    },
    "id": "a811a625",
    "outputId": "a053e9dd-194c-403f-f99b-133f9cf5a4e1"
   },
   "outputs": [
    {
     "name": "stdout",
     "output_type": "stream",
     "text": [
      "\u001b[38;5;2m✔ Download and installation successful\u001b[0m\n",
      "You can now load the package via spacy.load('zh_core_web_sm')\n",
      "\u001b[38;5;2m✔ Download and installation successful\u001b[0m\n",
      "You can now load the package via spacy.load('en_core_web_sm')\n",
      "--\n",
      "\n",
      "中文停用詞 Total=1891: ['移动', '起头', '难得', '′∈', '所谓', '略微', '成为', '”', '後来', '反之', '↑', '造成', '毋宁', '靠', '顷刻', '或者', '失去', '//', '不巧', '加强'] ...\n",
      "--\n",
      "英文停用詞 Total=326: ['’ll', 'is', 'yours', 'sixty', 'then', 'nine', 'whenever', 'it', 'former', 'thru', 'from', 'via', 'still', 'themselves', 'hereafter', '’re', 'thus', 'put', 'becoming', 'until'] ...\n"
     ]
    }
   ],
   "source": [
    "import spacy\n",
    "\n",
    "# 下載語言模組\n",
    "spacy.cli.download(\"zh_core_web_sm\")  # 下載 spacy 中文模組\n",
    "spacy.cli.download(\"en_core_web_sm\")  # 下載 spacy 英文模組\n",
    "\n",
    "nlp_zh = spacy.load(\"zh_core_web_sm\") # 載入 spacy 中文模組\n",
    "nlp_en = spacy.load(\"en_core_web_sm\") # 載入 spacy 英文模組\n",
    "\n",
    "# 印出前20個停用詞\n",
    "print('--\\n')\n",
    "print(f\"中文停用詞 Total={len(nlp_zh.Defaults.stop_words)}: {list(nlp_zh.Defaults.stop_words)[:20]} ...\")\n",
    "print(\"--\")\n",
    "print(f\"英文停用詞 Total={len(nlp_en.Defaults.stop_words)}: {list(nlp_en.Defaults.stop_words)[:20]} ...\")"
   ]
  },
  {
   "cell_type": "code",
   "execution_count": 6,
   "id": "d1c201e9",
   "metadata": {
    "colab": {
     "base_uri": "https://localhost:8080/"
    },
    "executionInfo": {
     "elapsed": 37,
     "status": "ok",
     "timestamp": 1683899735707,
     "user": {
      "displayName": "湯嘉為",
      "userId": "11718294289425929077"
     },
     "user_tz": -480
    },
    "id": "d1c201e9",
    "outputId": "16d87310-83fb-432e-964f-c98081569aa0"
   },
   "outputs": [
    {
     "name": "stdout",
     "output_type": "stream",
     "text": [
      "2222\n",
      "3005\n"
     ]
    }
   ],
   "source": [
    "STOPWORDS =  nlp_zh.Defaults.stop_words | \\\n",
    "             nlp_en.Defaults.stop_words | \\\n",
    "             set([\"\\n\", \"\\r\\n\", \"\\t\", \" \", \"\"])\n",
    "print(len(STOPWORDS))\n",
    "\n",
    "# 將簡體停用詞轉成繁體，擴充停用詞表\n",
    "for word in STOPWORDS.copy():\n",
    "    STOPWORDS.add(zhconv.convert(word, \"zh-tw\"))\n",
    "    \n",
    "print(len(STOPWORDS))"
   ]
  },
  {
   "cell_type": "code",
   "execution_count": 12,
   "id": "2fc5673b",
   "metadata": {
    "executionInfo": {
     "elapsed": 18,
     "status": "ok",
     "timestamp": 1683899735709,
     "user": {
      "displayName": "湯嘉為",
      "userId": "11718294289425929077"
     },
     "user_tz": -480
    },
    "id": "2fc5673b"
   },
   "outputs": [],
   "source": [
    "def preprocess_and_tokenize(\n",
    "    text: str, token_min_len: int=1, token_max_len: int=15, lower: bool=True) -> List[str]:\n",
    "    if lower:\n",
    "        text  = text.lower()\n",
    "    text = zhconv.convert(text, \"zh-tw\")\n",
    "    return [\n",
    "        token for token in jieba.cut(text, cut_all=False)\n",
    "        if token_min_len <= len(token) <= token_max_len and \\\n",
    "            token not in STOPWORDS\n",
    "    ]"
   ]
  },
  {
   "cell_type": "code",
   "execution_count": 13,
   "id": "37d94ea4",
   "metadata": {
    "colab": {
     "base_uri": "https://localhost:8080/"
    },
    "executionInfo": {
     "elapsed": 626,
     "status": "ok",
     "timestamp": 1683899736320,
     "user": {
      "displayName": "湯嘉為",
      "userId": "11718294289425929077"
     },
     "user_tz": -480
    },
    "id": "37d94ea4",
    "outputId": "bac563a7-fe86-4fa7-9765-657c48b50af2"
   },
   "outputs": [
    {
     "name": "stdout",
     "output_type": "stream",
     "text": [
      "['歐幾', '裡得', '西元前', '世紀', '古希臘', '數學家', '幾何', '父', '此畫', '拉斐爾']\n",
      "['來到', '北京', '清華大學']\n",
      "['中', '英', '夾雜', 'example', 'word2vec', 'interesting']\n"
     ]
    }
   ],
   "source": [
    "print(preprocess_and_tokenize(\"歐幾里得，西元前三世紀的古希臘數學家，現在被認為是幾何之父，此畫為拉斐爾\"))\n",
    "print(preprocess_and_tokenize(\"我来到北京清华大学\"))\n",
    "print(preprocess_and_tokenize(\"中英夾雜的example，Word2Vec應該很interesting吧?\"))"
   ]
  },
  {
   "cell_type": "code",
   "execution_count": null,
   "id": "42e827c3",
   "metadata": {
    "colab": {
     "base_uri": "https://localhost:8080/"
    },
    "executionInfo": {
     "elapsed": 14049926,
     "status": "ok",
     "timestamp": 1683913786232,
     "user": {
      "displayName": "湯嘉為",
      "userId": "11718294289425929077"
     },
     "user_tz": -480
    },
    "id": "42e827c3",
    "outputId": "ca354b6b-a876-430b-deaa-ca2ff7cc7619"
   },
   "outputs": [
    {
     "name": "stdout",
     "output_type": "stream",
     "text": [
      "Parsing C:\\Users\\Larry\\Downloads\\zhwiki-20230501-pages-articles-multistream.xml.bz2...\n"
     ]
    },
    {
     "name": "stderr",
     "output_type": "stream",
     "text": [
      "c:\\users\\larry\\appdata\\local\\programs\\python\\python38\\lib\\site-packages\\gensim\\utils.py:1333: UserWarning: detected Windows; aliasing chunkize to chunkize_serial\n",
      "  warnings.warn(\"detected %s; aliasing chunkize to chunkize_serial\" % entity)\n"
     ]
    }
   ],
   "source": [
    "# Do this cell in colab\n",
    "print(f\"Parsing {ZhWiki}...\")\n",
    "wiki_corpus = WikiCorpus(ZhWiki, tokenizer_func=preprocess_and_tokenize, token_min_len=1)\n",
    "print(\"finish\")"
   ]
  },
  {
   "cell_type": "code",
   "execution_count": 18,
   "id": "7f944d75",
   "metadata": {
    "colab": {
     "base_uri": "https://localhost:8080/"
    },
    "executionInfo": {
     "elapsed": 734,
     "status": "ok",
     "timestamp": 1683913786959,
     "user": {
      "displayName": "湯嘉為",
      "userId": "11718294289425929077"
     },
     "user_tz": -480
    },
    "id": "7f944d75",
    "outputId": "6e037e6c-6204-431c-eae2-50f321304756"
   },
   "outputs": [
    {
     "name": "stdout",
     "output_type": "stream",
     "text": [
      "['歐幾', '裡得', '西元前', '世紀', '古希臘', '數學家', '幾何', '父', '此畫', '拉斐爾']\n",
      "['蘇格拉底', '之死', '雅克', '路易', '大衛', '所繪', '1787', '年', '哲學', '研究']\n",
      "['文學', '狹義', '一種', '語言藝術', '語言文字', '手段', '形象化', '客觀', '社會', '生活']\n"
     ]
    }
   ],
   "source": [
    "g = wiki_corpus.get_texts()\n",
    "print(next(g)[:10])\n",
    "print(next(g)[:10])\n",
    "print(next(g)[:10])\n",
    "\n",
    "\n",
    "# print(jieba.lcut(\"\".join(next(g))[:50]))\n",
    "# print(jieba.lcut(\"\".join(next(g))[:50]))"
   ]
  },
  {
   "cell_type": "code",
   "execution_count": 7,
   "id": "d1801fbd",
   "metadata": {
    "colab": {
     "base_uri": "https://localhost:8080/"
    },
    "executionInfo": {
     "elapsed": 12744376,
     "status": "ok",
     "timestamp": 1683926531332,
     "user": {
      "displayName": "湯嘉為",
      "userId": "11718294289425929077"
     },
     "user_tz": -480
    },
    "id": "d1801fbd",
    "outputId": "14825505-0938-49a2-953e-04a7d64b6313"
   },
   "outputs": [],
   "source": [
    "WIKI_SEG_TXT = r\"C:\\Users\\Larry\\Desktop\\wiki_seg.txt\""
   ]
  },
  {
   "cell_type": "code",
   "execution_count": 10,
   "id": "86c964a0",
   "metadata": {
    "id": "86c964a0"
   },
   "outputs": [
    {
     "name": "stdout",
     "output_type": "stream",
     "text": [
      "Use 12 workers to train Word2Vec (dim=300)\n",
      "CPU times: total: 1h 14min 42s\n",
      "Wall time: 34min 27s\n"
     ]
    }
   ],
   "source": [
    "%%time\n",
    "\n",
    "from gensim.models import word2vec\n",
    "import multiprocessing\n",
    "\n",
    "max_cpu_counts = multiprocessing.cpu_count()\n",
    "word_dim_size = 300  #  設定 word vector 維度\n",
    "print(f\"Use {max_cpu_counts} workers to train Word2Vec (dim={word_dim_size})\")\n",
    "\n",
    "\n",
    "# 讀取訓練語句\n",
    "sentences = word2vec.LineSentence(WIKI_SEG_TXT)\n",
    "\n",
    "# 訓練模型\n",
    "model = word2vec.Word2Vec(sentences, vector_size=word_dim_size, workers=max_cpu_counts)\n",
    "\n",
    "# 儲存模型\n",
    "output_model = f\"word2vec.zh.{word_dim_size}.model\"\n",
    "model.save(output_model)"
   ]
  },
  {
   "cell_type": "code",
   "execution_count": 12,
   "id": "32692045",
   "metadata": {
    "id": "32692045"
   },
   "outputs": [
    {
     "name": "stdout",
     "output_type": "stream",
     "text": [
      "(1281108, 300)\n"
     ]
    },
    {
     "data": {
      "text/plain": [
       "array([[ 2.3356509e+00,  9.9428272e-01, -2.5183547e+00, ...,\n",
       "         8.9413118e-01,  3.9101195e-01, -3.4498594e+00],\n",
       "       [ 2.5912645e+00,  1.1913005e+00, -2.6872811e+00, ...,\n",
       "         4.6329018e-01,  1.4804647e+00, -4.2031350e+00],\n",
       "       [ 6.5827179e-01,  9.5819396e-01, -9.1632044e-01, ...,\n",
       "         5.2813661e-01,  1.0274427e+00, -1.5687137e+00],\n",
       "       ...,\n",
       "       [-1.9454038e-02, -1.9204972e-02,  8.3302788e-02, ...,\n",
       "        -8.2949176e-03, -5.7278134e-02, -8.1093840e-02],\n",
       "       [-4.5084157e-03, -1.4150353e-02, -3.1951465e-02, ...,\n",
       "         8.8870479e-04,  2.4251521e-02, -2.6161406e-02],\n",
       "       [-3.9887622e-02,  5.4721795e-02,  2.4229368e-02, ...,\n",
       "        -1.7574297e-02, -2.9595951e-03,  3.7285085e-03]], dtype=float32)"
      ]
     },
     "execution_count": 12,
     "metadata": {},
     "output_type": "execute_result"
    }
   ],
   "source": [
    "print(model.wv.vectors.shape)\n",
    "model.wv.vectors"
   ]
  },
  {
   "cell_type": "code",
   "execution_count": 16,
   "id": "646ac2d0",
   "metadata": {
    "id": "646ac2d0"
   },
   "outputs": [
    {
     "name": "stdout",
     "output_type": "stream",
     "text": [
      "總共收錄了 1281108 個詞彙\n",
      "印出 20 個收錄詞彙:\n",
      "['年', '月', '日', '中', '10', '12', '11', '小行星', '中國', '時']\n"
     ]
    }
   ],
   "source": [
    "print(f\"總共收錄了 {len(model.wv.key_to_index)} 個詞彙\")\n",
    "\n",
    "print(\"印出 20 個收錄詞彙:\")\n",
    "print(list(model.wv.key_to_index.keys())[:10])\n"
   ]
  },
  {
   "cell_type": "code",
   "execution_count": 17,
   "id": "df1f0e54",
   "metadata": {
    "id": "df1f0e54"
   },
   "outputs": [
    {
     "name": "stdout",
     "output_type": "stream",
     "text": [
      "(300,)\n"
     ]
    },
    {
     "data": {
      "text/plain": [
       "array([-2.5098159e+00, -8.7425709e-01, -1.1193275e+00, -7.6306146e-01,\n",
       "        1.5183293e+00, -1.3143593e+00, -3.0370018e+00, -3.9760044e-01,\n",
       "       -2.3294845e+00, -6.9685298e-01,  6.2689441e-01,  1.4316865e+00,\n",
       "        3.9469555e-01, -2.8910109e-01, -7.3121977e-01,  4.1757700e-01,\n",
       "       -2.5718018e-01,  1.3801970e+00, -1.9639119e+00,  7.4829765e-02,\n",
       "       -1.9182280e+00, -2.0201023e+00,  6.2039506e-01, -1.4086714e+00,\n",
       "       -2.0132906e+00,  9.5298165e-01,  1.0058908e+00,  1.8032556e+00,\n",
       "       -1.3946528e+00, -7.1193588e-01, -3.3011141e-01, -1.2556978e-02,\n",
       "       -1.1751009e+00,  1.7472136e-01, -1.8263913e+00,  2.0147755e+00,\n",
       "        2.5440696e-01,  1.1868458e+00, -7.6499414e-01, -1.2859404e+00,\n",
       "       -7.7888030e-01, -4.2789621e+00,  1.1276323e-01,  5.8384013e-01,\n",
       "       -1.2326813e+00, -9.0584141e-01,  2.7983325e+00, -6.9619542e-01,\n",
       "       -5.3100312e-01,  2.1726296e+00, -2.2379658e+00, -4.3764052e-01,\n",
       "       -1.1119894e+00,  1.8412908e+00, -1.3443875e-01,  7.2078747e-01,\n",
       "       -2.5201950e+00, -3.7151155e-01, -7.5885795e-02,  1.7191498e+00,\n",
       "        5.8762676e-01,  1.7287215e+00, -3.1106675e-01, -3.0740128e+00,\n",
       "       -7.7469391e-01,  1.0981706e+00, -7.7425843e-01, -8.0467746e-02,\n",
       "        2.2519228e-01,  6.3732147e-01,  8.8380104e-01, -1.7376436e+00,\n",
       "        2.9409137e-01,  8.4651172e-01, -1.5542008e-01,  1.2512927e+00,\n",
       "       -1.4120048e+00,  6.2775415e-01, -9.4792390e-01, -4.3783218e-01,\n",
       "       -8.8143331e-01, -3.2813647e-01,  5.4406661e-01, -3.4755824e+00,\n",
       "       -5.2497974e-03, -2.0792098e+00,  6.5021329e-02, -1.3142005e-01,\n",
       "       -5.0192219e-01,  5.1159233e-02,  4.3971735e-01, -5.5051732e-01,\n",
       "       -1.4449131e+00,  2.2459297e+00,  1.9348378e+00,  1.6823611e+00,\n",
       "        1.4129283e+00, -3.4565011e-01, -1.2944497e+00, -1.9387510e+00,\n",
       "        1.5396036e+00,  1.0389451e+00,  9.4906360e-01,  1.6002766e+00,\n",
       "       -5.8514214e-01, -2.7621956e+00, -2.1412592e+00,  2.1607687e+00,\n",
       "       -2.9859190e+00,  1.8197809e+00,  5.7878196e-01, -4.0863398e-01,\n",
       "       -2.6183994e+00,  2.1034479e-01, -2.0026236e+00, -1.4798939e+00,\n",
       "       -9.7133791e-01, -9.9247789e-01, -6.8561591e-02, -1.0578014e+00,\n",
       "       -8.0379170e-01,  1.0906804e+00, -1.3252856e+00, -7.0287091e-01,\n",
       "       -2.0765455e+00,  1.0654986e+00, -9.3247640e-01,  3.2667754e+00,\n",
       "        2.7340227e-01, -1.8300693e+00, -8.6576372e-01,  7.7677542e-01,\n",
       "       -2.9622028e+00,  1.7873685e+00,  1.0965225e+00,  2.1000713e-01,\n",
       "        2.1276717e+00, -2.9315794e+00,  1.9664236e+00,  5.0422454e-01,\n",
       "        1.4087222e+00,  5.9601289e-01, -8.5008425e-01, -4.0505915e+00,\n",
       "        1.1835086e+00,  2.3517089e+00,  1.7559403e+00, -9.1961044e-01,\n",
       "       -1.6161160e+00, -8.8870454e-01, -1.0705582e-02, -7.8470922e-01,\n",
       "        2.4660101e+00, -1.6089170e+00,  2.5871605e-01,  3.5639629e+00,\n",
       "        2.5800874e+00,  1.5180526e+00,  2.2738509e+00, -1.7974727e-01,\n",
       "       -9.0605462e-01,  4.3590224e-01, -1.0028239e+00,  9.2346197e-01,\n",
       "       -1.5424204e+00,  1.6828945e-01,  1.5248320e+00, -8.5174119e-01,\n",
       "       -1.0231490e+00, -2.1322467e+00,  6.6780001e-02, -3.8399644e+00,\n",
       "       -5.8246683e-02, -1.5927006e+00, -1.3300869e+00,  5.8082420e-01,\n",
       "       -1.6367599e+00,  1.8619974e+00, -1.1271410e+00, -2.2339559e+00,\n",
       "       -1.9667931e-01, -1.3902884e+00,  2.3887698e-01, -1.9740051e+00,\n",
       "        1.8914998e+00, -1.5342224e-01, -2.9233914e-02, -1.6305566e+00,\n",
       "       -6.8159181e-01, -1.2855948e+00, -3.3888325e-01,  2.8311336e-01,\n",
       "        1.6285813e+00,  1.3949851e+00, -6.3588709e-01, -2.0444918e+00,\n",
       "       -2.2761972e+00, -6.0189545e-01, -9.1646022e-01, -1.3149178e+00,\n",
       "       -1.6722966e+00, -2.5400002e+00,  4.4068119e-01, -3.8710552e-01,\n",
       "        1.3766977e-01, -7.7309704e-01,  2.7076867e+00, -9.6224910e-01,\n",
       "        2.0799849e+00,  1.8228353e-03,  3.2291839e-01,  3.0823514e+00,\n",
       "       -2.3910648e-01, -6.7840630e-01,  1.0284235e+00,  2.1988162e-01,\n",
       "        2.0716677e+00, -7.4077868e-01, -1.4308283e+00,  2.2135131e+00,\n",
       "       -2.3703349e+00,  4.7084403e-01, -6.0994977e-01, -1.3539031e+00,\n",
       "       -8.8549018e-01,  1.1478771e-01,  2.3990755e+00, -1.3474363e+00,\n",
       "        1.9536786e-01, -2.1184410e-01,  8.1344682e-01,  3.4507101e+00,\n",
       "       -2.5640447e+00,  8.2078540e-01,  2.0369515e+00,  3.8065135e-02,\n",
       "       -1.4829081e+00, -5.2081418e-01,  1.5935873e+00,  1.8186841e+00,\n",
       "        1.0150800e+00,  6.1693972e-01, -4.9038970e-01, -3.0585778e+00,\n",
       "        1.8881921e+00,  5.7682824e-01, -1.6601613e+00, -9.0596420e-01,\n",
       "       -8.1696558e-01,  9.4008255e-01, -8.3768928e-01,  1.3375506e+00,\n",
       "        8.8708532e-01,  7.3253608e-01, -9.2730439e-01, -1.2124244e+00,\n",
       "       -9.5621502e-01, -3.2157729e+00, -5.6441879e-01,  9.8379523e-01,\n",
       "        1.6980993e+00,  6.5199029e-01,  6.5927112e-01, -9.4362721e-04,\n",
       "        3.6917147e-01, -6.2483150e-01,  4.3188116e-01, -6.9418067e-01,\n",
       "       -6.6677535e-01,  2.5810044e+00,  2.3590524e+00, -4.8741019e-01,\n",
       "       -1.8116941e+00,  1.5884839e+00,  1.1558408e+00,  1.5452156e+00,\n",
       "       -1.5963442e+00, -8.0355096e-01, -2.1154535e+00,  1.0327097e+00,\n",
       "        1.0177184e+00, -1.8919615e+00, -2.4699655e-01,  2.9586974e-01,\n",
       "        6.8665487e-01,  4.1545439e+00, -2.3577856e-01, -1.2149159e+00,\n",
       "        1.1439668e+00,  2.9635243e+00, -7.8328234e-01, -1.0618507e+00,\n",
       "        1.2607117e+00,  1.3246002e+00, -9.1961759e-01,  4.2221332e-01,\n",
       "       -1.9433224e-01,  3.9729831e-01,  1.9150944e-01, -2.0348969e+00],\n",
       "      dtype=float32)"
      ]
     },
     "execution_count": 17,
     "metadata": {},
     "output_type": "execute_result"
    }
   ],
   "source": [
    "vec = model.wv['數學家']\n",
    "print(vec.shape)\n",
    "vec "
   ]
  },
  {
   "cell_type": "code",
   "execution_count": 18,
   "id": "8fef0449",
   "metadata": {
    "id": "8fef0449"
   },
   "outputs": [
    {
     "name": "stdout",
     "output_type": "stream",
     "text": [
      "\"Key '這肯定沒見過 ' not present\"\n"
     ]
    }
   ],
   "source": [
    "word = \"這肯定沒見過 \"\n",
    "\n",
    "# 若強行取值會報錯\n",
    "try:\n",
    "    vec = model.wv[word]\n",
    "except KeyError as e:\n",
    "    print(e)"
   ]
  },
  {
   "cell_type": "code",
   "execution_count": 19,
   "id": "5aee54a3",
   "metadata": {
    "id": "5aee54a3"
   },
   "outputs": [
    {
     "data": {
      "text/plain": [
       "[('飲品', 0.809328556060791),\n",
       " ('軟飲料', 0.7024866342544556),\n",
       " ('含酒精', 0.6904177665710449),\n",
       " ('果汁', 0.6858935356140137),\n",
       " ('酒類', 0.6661137938499451),\n",
       " ('酒精類', 0.6439155340194702),\n",
       " ('酒水', 0.6307460069656372),\n",
       " ('提神', 0.620352566242218),\n",
       " ('罐裝', 0.6196714043617249),\n",
       " ('蘇打水', 0.6155136227607727)]"
      ]
     },
     "execution_count": 19,
     "metadata": {},
     "output_type": "execute_result"
    }
   ],
   "source": [
    "model.wv.most_similar(\"飲料\", topn=10)"
   ]
  },
  {
   "cell_type": "code",
   "execution_count": 20,
   "id": "7a9116b5",
   "metadata": {
    "id": "7a9116b5"
   },
   "outputs": [
    {
     "data": {
      "text/plain": [
       "[('truck', 0.6745814681053162),\n",
       " ('tikita', 0.669427752494812),\n",
       " ('seat', 0.6667279601097107),\n",
       " ('limousine', 0.6198944449424744),\n",
       " ('motorcycle', 0.6196877360343933),\n",
       " ('cab', 0.612440824508667),\n",
       " ('chevrolet', 0.6013472080230713),\n",
       " ('pickup', 0.598986029624939),\n",
       " ('wagon', 0.5982146859169006),\n",
       " ('motor', 0.5973161458969116)]"
      ]
     },
     "execution_count": 20,
     "metadata": {},
     "output_type": "execute_result"
    }
   ],
   "source": [
    "model.wv.most_similar(\"car\")"
   ]
  },
  {
   "cell_type": "code",
   "execution_count": 21,
   "id": "b2df4c24",
   "metadata": {
    "id": "b2df4c24"
   },
   "outputs": [
    {
     "data": {
      "text/plain": [
       "[('臉書', 0.8026980757713318),\n",
       " ('專頁', 0.7572149038314819),\n",
       " ('面書', 0.743718147277832),\n",
       " ('instagram', 0.717136025428772),\n",
       " ('貼文', 0.6941859126091003),\n",
       " ('twitter', 0.6797687411308289),\n",
       " ('推特', 0.6733626127243042),\n",
       " ('粉專', 0.6730448603630066),\n",
       " ('tumblr', 0.6474182605743408),\n",
       " ('粉絲團', 0.6471482515335083)]"
      ]
     },
     "execution_count": 21,
     "metadata": {},
     "output_type": "execute_result"
    }
   ],
   "source": [
    "model.wv.most_similar(\"facebook\")"
   ]
  },
  {
   "cell_type": "code",
   "execution_count": 22,
   "id": "bc69ca9a",
   "metadata": {
    "id": "bc69ca9a"
   },
   "outputs": [
    {
     "data": {
      "text/plain": [
       "[('欺詐', 0.6929510831832886),\n",
       " ('詐騙', 0.5871631503105164),\n",
       " ('慣犯', 0.5665764808654785),\n",
       " ('詐欺罪', 0.5551669001579285),\n",
       " ('竊盜', 0.5519699454307556),\n",
       " ('委託人', 0.5280893445014954),\n",
       " ('敲詐', 0.5202021598815918),\n",
       " ('詐財', 0.5067790150642395),\n",
       " ('偽證', 0.5061326622962952),\n",
       " ('詐騙犯', 0.5058969259262085)]"
      ]
     },
     "execution_count": 22,
     "metadata": {},
     "output_type": "execute_result"
    }
   ],
   "source": [
    "model.wv.most_similar(\"詐欺\")"
   ]
  },
  {
   "cell_type": "code",
   "execution_count": 23,
   "id": "cadd5c9a",
   "metadata": {
    "id": "cadd5c9a"
   },
   "outputs": [
    {
     "data": {
      "text/plain": [
       "[('合同', 0.7794087529182434),\n",
       " ('簽約', 0.7035037875175476),\n",
       " ('續約', 0.6858285069465637),\n",
       " ('簽下', 0.5998603701591492),\n",
       " ('租約', 0.5896501541137695),\n",
       " ('短約', 0.5811787843704224),\n",
       " ('續簽', 0.5810917019844055),\n",
       " ('買斷', 0.5799855589866638),\n",
       " ('選擇權', 0.5781211853027344),\n",
       " ('解約', 0.5772160887718201)]"
      ]
     },
     "execution_count": 23,
     "metadata": {},
     "output_type": "execute_result"
    }
   ],
   "source": [
    "model.wv.most_similar(\"合約\")"
   ]
  },
  {
   "cell_type": "code",
   "execution_count": 24,
   "id": "a6d7662b",
   "metadata": {
    "id": "a6d7662b"
   },
   "outputs": [
    {
     "data": {
      "text/plain": [
       "0.7021598"
      ]
     },
     "execution_count": 24,
     "metadata": {},
     "output_type": "execute_result"
    }
   ],
   "source": [
    "model.wv.similarity(\"連結\", \"鍵接\")"
   ]
  },
  {
   "cell_type": "code",
   "execution_count": 25,
   "id": "ec001423",
   "metadata": {
    "id": "ec001423"
   },
   "outputs": [
    {
     "data": {
      "text/plain": [
       "0.008144689"
      ]
     },
     "execution_count": 25,
     "metadata": {},
     "output_type": "execute_result"
    }
   ],
   "source": [
    "model.wv.similarity(\"連結\", \"陰天\")"
   ]
  },
  {
   "cell_type": "code",
   "execution_count": 26,
   "id": "4b59fef3",
   "metadata": {
    "id": "4b59fef3"
   },
   "outputs": [
    {
     "name": "stdout",
     "output_type": "stream",
     "text": [
      "Loading word2vec.zh.300.model...\n"
     ]
    }
   ],
   "source": [
    "print(f\"Loading {output_model}...\")\n",
    "new_model = word2vec.Word2Vec.load(output_model)"
   ]
  },
  {
   "cell_type": "code",
   "execution_count": 27,
   "id": "3cb4a083",
   "metadata": {
    "id": "3cb4a083"
   },
   "outputs": [
    {
     "data": {
      "text/plain": [
       "True"
      ]
     },
     "execution_count": 27,
     "metadata": {},
     "output_type": "execute_result"
    }
   ],
   "source": [
    "model.wv.similarity(\"連結\", \"陰天\") == new_model.wv.similarity(\"連結\", \"陰天\")"
   ]
  }
 ],
 "metadata": {
  "colab": {
   "provenance": []
  },
  "kernelspec": {
   "display_name": "Python 3 (ipykernel)",
   "language": "python",
   "name": "python3"
  },
  "language_info": {
   "codemirror_mode": {
    "name": "ipython",
    "version": 3
   },
   "file_extension": ".py",
   "mimetype": "text/x-python",
   "name": "python",
   "nbconvert_exporter": "python",
   "pygments_lexer": "ipython3",
   "version": "3.8.10"
  }
 },
 "nbformat": 4,
 "nbformat_minor": 5
}
